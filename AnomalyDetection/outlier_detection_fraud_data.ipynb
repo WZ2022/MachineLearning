{
  "nbformat": 4,
  "nbformat_minor": 0,
  "metadata": {
    "colab": {
      "name": "outlier_detection_fraud_data.ipynb",
      "provenance": [],
      "collapsed_sections": []
    },
    "kernelspec": {
      "name": "python3",
      "display_name": "Python 3"
    }
  },
  "cells": [
    {
      "cell_type": "code",
      "metadata": {
        "id": "Ot7ZHfdC9tEa"
      },
      "source": [
        "import matplotlib.pyplot as plt\n",
        "import seaborn as sns\n",
        "import numpy as np\n",
        "from sklearn.ensemble import IsolationForest\n",
        "from numpy import genfromtxt\n",
        "from scipy.stats import multivariate_normal\n",
        "from sklearn.metrics import f1_score\n",
        "import io\n",
        "import pandas as pd\n",
        "from sklearn.model_selection import train_test_split\n",
        "from sklearn.metrics import f1_score, roc_auc_score, roc_curve, precision_recall_curve, auc, make_scorer, recall_score, accuracy_score, precision_score, confusion_matrix\n",
        "import collections"
      ],
      "execution_count": 62,
      "outputs": []
    },
    {
      "cell_type": "markdown",
      "metadata": {
        "id": "JoyZxvFs0NQt"
      },
      "source": [
        "# Data Import"
      ]
    },
    {
      "cell_type": "code",
      "source": [
        "from google.colab import drive\n",
        "drive.mount('/content/drive')"
      ],
      "metadata": {
        "colab": {
          "base_uri": "https://localhost:8080/"
        },
        "id": "ZhCCXAN78SHo",
        "outputId": "49f404d0-dffc-4c70-ea95-e77ea4697def"
      },
      "execution_count": 3,
      "outputs": [
        {
          "output_type": "stream",
          "name": "stdout",
          "text": [
            "Mounted at /content/drive\n"
          ]
        }
      ]
    },
    {
      "cell_type": "code",
      "source": [
        "!ls \"/content/drive/MyDrive/2022Projects/异常检测/fraudData\""
      ],
      "metadata": {
        "colab": {
          "base_uri": "https://localhost:8080/"
        },
        "id": "Y0UKLILa8vZ6",
        "outputId": "bbceeac8-140b-4f51-d9ac-b7459b1f86ab"
      },
      "execution_count": 4,
      "outputs": [
        {
          "output_type": "stream",
          "name": "stdout",
          "text": [
            "creditcard.csv\timbalancedFraudDF.csv  IpAddress_to_Country.csv\n"
          ]
        }
      ]
    },
    {
      "cell_type": "code",
      "metadata": {
        "id": "hAsrQUiLBFd4",
        "colab": {
          "base_uri": "https://localhost:8080/",
          "height": 299
        },
        "outputId": "a2aad553-4173-4e7c-e18b-c0c963b14d02"
      },
      "source": [
        "creditcardDF = pd.read_csv('/content/drive/MyDrive/laioffer/2022Projects/异常检测/fraudData/creditcard.csv') \n",
        "creditcardDF.head()#all numerical"
      ],
      "execution_count": 5,
      "outputs": [
        {
          "output_type": "execute_result",
          "data": {
            "text/plain": [
              "   Time        V1        V2        V3        V4        V5        V6        V7  \\\n",
              "0   0.0 -1.359807 -0.072781  2.536347  1.378155 -0.338321  0.462388  0.239599   \n",
              "1   0.0  1.191857  0.266151  0.166480  0.448154  0.060018 -0.082361 -0.078803   \n",
              "2   1.0 -1.358354 -1.340163  1.773209  0.379780 -0.503198  1.800499  0.791461   \n",
              "3   1.0 -0.966272 -0.185226  1.792993 -0.863291 -0.010309  1.247203  0.237609   \n",
              "4   2.0 -1.158233  0.877737  1.548718  0.403034 -0.407193  0.095921  0.592941   \n",
              "\n",
              "         V8        V9  ...       V21       V22       V23       V24       V25  \\\n",
              "0  0.098698  0.363787  ... -0.018307  0.277838 -0.110474  0.066928  0.128539   \n",
              "1  0.085102 -0.255425  ... -0.225775 -0.638672  0.101288 -0.339846  0.167170   \n",
              "2  0.247676 -1.514654  ...  0.247998  0.771679  0.909412 -0.689281 -0.327642   \n",
              "3  0.377436 -1.387024  ... -0.108300  0.005274 -0.190321 -1.175575  0.647376   \n",
              "4 -0.270533  0.817739  ... -0.009431  0.798278 -0.137458  0.141267 -0.206010   \n",
              "\n",
              "        V26       V27       V28  Amount  Class  \n",
              "0 -0.189115  0.133558 -0.021053  149.62      0  \n",
              "1  0.125895 -0.008983  0.014724    2.69      0  \n",
              "2 -0.139097 -0.055353 -0.059752  378.66      0  \n",
              "3 -0.221929  0.062723  0.061458  123.50      0  \n",
              "4  0.502292  0.219422  0.215153   69.99      0  \n",
              "\n",
              "[5 rows x 31 columns]"
            ],
            "text/html": [
              "\n",
              "  <div id=\"df-01dbead8-907d-46e5-907b-94ba9ad28bdc\">\n",
              "    <div class=\"colab-df-container\">\n",
              "      <div>\n",
              "<style scoped>\n",
              "    .dataframe tbody tr th:only-of-type {\n",
              "        vertical-align: middle;\n",
              "    }\n",
              "\n",
              "    .dataframe tbody tr th {\n",
              "        vertical-align: top;\n",
              "    }\n",
              "\n",
              "    .dataframe thead th {\n",
              "        text-align: right;\n",
              "    }\n",
              "</style>\n",
              "<table border=\"1\" class=\"dataframe\">\n",
              "  <thead>\n",
              "    <tr style=\"text-align: right;\">\n",
              "      <th></th>\n",
              "      <th>Time</th>\n",
              "      <th>V1</th>\n",
              "      <th>V2</th>\n",
              "      <th>V3</th>\n",
              "      <th>V4</th>\n",
              "      <th>V5</th>\n",
              "      <th>V6</th>\n",
              "      <th>V7</th>\n",
              "      <th>V8</th>\n",
              "      <th>V9</th>\n",
              "      <th>...</th>\n",
              "      <th>V21</th>\n",
              "      <th>V22</th>\n",
              "      <th>V23</th>\n",
              "      <th>V24</th>\n",
              "      <th>V25</th>\n",
              "      <th>V26</th>\n",
              "      <th>V27</th>\n",
              "      <th>V28</th>\n",
              "      <th>Amount</th>\n",
              "      <th>Class</th>\n",
              "    </tr>\n",
              "  </thead>\n",
              "  <tbody>\n",
              "    <tr>\n",
              "      <th>0</th>\n",
              "      <td>0.0</td>\n",
              "      <td>-1.359807</td>\n",
              "      <td>-0.072781</td>\n",
              "      <td>2.536347</td>\n",
              "      <td>1.378155</td>\n",
              "      <td>-0.338321</td>\n",
              "      <td>0.462388</td>\n",
              "      <td>0.239599</td>\n",
              "      <td>0.098698</td>\n",
              "      <td>0.363787</td>\n",
              "      <td>...</td>\n",
              "      <td>-0.018307</td>\n",
              "      <td>0.277838</td>\n",
              "      <td>-0.110474</td>\n",
              "      <td>0.066928</td>\n",
              "      <td>0.128539</td>\n",
              "      <td>-0.189115</td>\n",
              "      <td>0.133558</td>\n",
              "      <td>-0.021053</td>\n",
              "      <td>149.62</td>\n",
              "      <td>0</td>\n",
              "    </tr>\n",
              "    <tr>\n",
              "      <th>1</th>\n",
              "      <td>0.0</td>\n",
              "      <td>1.191857</td>\n",
              "      <td>0.266151</td>\n",
              "      <td>0.166480</td>\n",
              "      <td>0.448154</td>\n",
              "      <td>0.060018</td>\n",
              "      <td>-0.082361</td>\n",
              "      <td>-0.078803</td>\n",
              "      <td>0.085102</td>\n",
              "      <td>-0.255425</td>\n",
              "      <td>...</td>\n",
              "      <td>-0.225775</td>\n",
              "      <td>-0.638672</td>\n",
              "      <td>0.101288</td>\n",
              "      <td>-0.339846</td>\n",
              "      <td>0.167170</td>\n",
              "      <td>0.125895</td>\n",
              "      <td>-0.008983</td>\n",
              "      <td>0.014724</td>\n",
              "      <td>2.69</td>\n",
              "      <td>0</td>\n",
              "    </tr>\n",
              "    <tr>\n",
              "      <th>2</th>\n",
              "      <td>1.0</td>\n",
              "      <td>-1.358354</td>\n",
              "      <td>-1.340163</td>\n",
              "      <td>1.773209</td>\n",
              "      <td>0.379780</td>\n",
              "      <td>-0.503198</td>\n",
              "      <td>1.800499</td>\n",
              "      <td>0.791461</td>\n",
              "      <td>0.247676</td>\n",
              "      <td>-1.514654</td>\n",
              "      <td>...</td>\n",
              "      <td>0.247998</td>\n",
              "      <td>0.771679</td>\n",
              "      <td>0.909412</td>\n",
              "      <td>-0.689281</td>\n",
              "      <td>-0.327642</td>\n",
              "      <td>-0.139097</td>\n",
              "      <td>-0.055353</td>\n",
              "      <td>-0.059752</td>\n",
              "      <td>378.66</td>\n",
              "      <td>0</td>\n",
              "    </tr>\n",
              "    <tr>\n",
              "      <th>3</th>\n",
              "      <td>1.0</td>\n",
              "      <td>-0.966272</td>\n",
              "      <td>-0.185226</td>\n",
              "      <td>1.792993</td>\n",
              "      <td>-0.863291</td>\n",
              "      <td>-0.010309</td>\n",
              "      <td>1.247203</td>\n",
              "      <td>0.237609</td>\n",
              "      <td>0.377436</td>\n",
              "      <td>-1.387024</td>\n",
              "      <td>...</td>\n",
              "      <td>-0.108300</td>\n",
              "      <td>0.005274</td>\n",
              "      <td>-0.190321</td>\n",
              "      <td>-1.175575</td>\n",
              "      <td>0.647376</td>\n",
              "      <td>-0.221929</td>\n",
              "      <td>0.062723</td>\n",
              "      <td>0.061458</td>\n",
              "      <td>123.50</td>\n",
              "      <td>0</td>\n",
              "    </tr>\n",
              "    <tr>\n",
              "      <th>4</th>\n",
              "      <td>2.0</td>\n",
              "      <td>-1.158233</td>\n",
              "      <td>0.877737</td>\n",
              "      <td>1.548718</td>\n",
              "      <td>0.403034</td>\n",
              "      <td>-0.407193</td>\n",
              "      <td>0.095921</td>\n",
              "      <td>0.592941</td>\n",
              "      <td>-0.270533</td>\n",
              "      <td>0.817739</td>\n",
              "      <td>...</td>\n",
              "      <td>-0.009431</td>\n",
              "      <td>0.798278</td>\n",
              "      <td>-0.137458</td>\n",
              "      <td>0.141267</td>\n",
              "      <td>-0.206010</td>\n",
              "      <td>0.502292</td>\n",
              "      <td>0.219422</td>\n",
              "      <td>0.215153</td>\n",
              "      <td>69.99</td>\n",
              "      <td>0</td>\n",
              "    </tr>\n",
              "  </tbody>\n",
              "</table>\n",
              "<p>5 rows × 31 columns</p>\n",
              "</div>\n",
              "      <button class=\"colab-df-convert\" onclick=\"convertToInteractive('df-01dbead8-907d-46e5-907b-94ba9ad28bdc')\"\n",
              "              title=\"Convert this dataframe to an interactive table.\"\n",
              "              style=\"display:none;\">\n",
              "        \n",
              "  <svg xmlns=\"http://www.w3.org/2000/svg\" height=\"24px\"viewBox=\"0 0 24 24\"\n",
              "       width=\"24px\">\n",
              "    <path d=\"M0 0h24v24H0V0z\" fill=\"none\"/>\n",
              "    <path d=\"M18.56 5.44l.94 2.06.94-2.06 2.06-.94-2.06-.94-.94-2.06-.94 2.06-2.06.94zm-11 1L8.5 8.5l.94-2.06 2.06-.94-2.06-.94L8.5 2.5l-.94 2.06-2.06.94zm10 10l.94 2.06.94-2.06 2.06-.94-2.06-.94-.94-2.06-.94 2.06-2.06.94z\"/><path d=\"M17.41 7.96l-1.37-1.37c-.4-.4-.92-.59-1.43-.59-.52 0-1.04.2-1.43.59L10.3 9.45l-7.72 7.72c-.78.78-.78 2.05 0 2.83L4 21.41c.39.39.9.59 1.41.59.51 0 1.02-.2 1.41-.59l7.78-7.78 2.81-2.81c.8-.78.8-2.07 0-2.86zM5.41 20L4 18.59l7.72-7.72 1.47 1.35L5.41 20z\"/>\n",
              "  </svg>\n",
              "      </button>\n",
              "      \n",
              "  <style>\n",
              "    .colab-df-container {\n",
              "      display:flex;\n",
              "      flex-wrap:wrap;\n",
              "      gap: 12px;\n",
              "    }\n",
              "\n",
              "    .colab-df-convert {\n",
              "      background-color: #E8F0FE;\n",
              "      border: none;\n",
              "      border-radius: 50%;\n",
              "      cursor: pointer;\n",
              "      display: none;\n",
              "      fill: #1967D2;\n",
              "      height: 32px;\n",
              "      padding: 0 0 0 0;\n",
              "      width: 32px;\n",
              "    }\n",
              "\n",
              "    .colab-df-convert:hover {\n",
              "      background-color: #E2EBFA;\n",
              "      box-shadow: 0px 1px 2px rgba(60, 64, 67, 0.3), 0px 1px 3px 1px rgba(60, 64, 67, 0.15);\n",
              "      fill: #174EA6;\n",
              "    }\n",
              "\n",
              "    [theme=dark] .colab-df-convert {\n",
              "      background-color: #3B4455;\n",
              "      fill: #D2E3FC;\n",
              "    }\n",
              "\n",
              "    [theme=dark] .colab-df-convert:hover {\n",
              "      background-color: #434B5C;\n",
              "      box-shadow: 0px 1px 3px 1px rgba(0, 0, 0, 0.15);\n",
              "      filter: drop-shadow(0px 1px 2px rgba(0, 0, 0, 0.3));\n",
              "      fill: #FFFFFF;\n",
              "    }\n",
              "  </style>\n",
              "\n",
              "      <script>\n",
              "        const buttonEl =\n",
              "          document.querySelector('#df-01dbead8-907d-46e5-907b-94ba9ad28bdc button.colab-df-convert');\n",
              "        buttonEl.style.display =\n",
              "          google.colab.kernel.accessAllowed ? 'block' : 'none';\n",
              "\n",
              "        async function convertToInteractive(key) {\n",
              "          const element = document.querySelector('#df-01dbead8-907d-46e5-907b-94ba9ad28bdc');\n",
              "          const dataTable =\n",
              "            await google.colab.kernel.invokeFunction('convertToInteractive',\n",
              "                                                     [key], {});\n",
              "          if (!dataTable) return;\n",
              "\n",
              "          const docLinkHtml = 'Like what you see? Visit the ' +\n",
              "            '<a target=\"_blank\" href=https://colab.research.google.com/notebooks/data_table.ipynb>data table notebook</a>'\n",
              "            + ' to learn more about interactive tables.';\n",
              "          element.innerHTML = '';\n",
              "          dataTable['output_type'] = 'display_data';\n",
              "          await google.colab.output.renderOutput(dataTable, element);\n",
              "          const docLink = document.createElement('div');\n",
              "          docLink.innerHTML = docLinkHtml;\n",
              "          element.appendChild(docLink);\n",
              "        }\n",
              "      </script>\n",
              "    </div>\n",
              "  </div>\n",
              "  "
            ]
          },
          "metadata": {},
          "execution_count": 5
        }
      ]
    },
    {
      "cell_type": "code",
      "metadata": {
        "id": "cmbDYSzDHd1a",
        "colab": {
          "base_uri": "https://localhost:8080/"
        },
        "outputId": "e90e9322-59c4-48c8-ae99-a1e618555d1e"
      },
      "source": [
        "#Distribution of the label data\n",
        "creditcardDF['Class'].value_counts()"
      ],
      "execution_count": 6,
      "outputs": [
        {
          "output_type": "execute_result",
          "data": {
            "text/plain": [
              "0    284315\n",
              "1       492\n",
              "Name: Class, dtype: int64"
            ]
          },
          "metadata": {},
          "execution_count": 6
        }
      ]
    },
    {
      "cell_type": "code",
      "metadata": {
        "id": "YRXR-vc1JJ3m",
        "colab": {
          "base_uri": "https://localhost:8080/"
        },
        "outputId": "bf11ae2f-bf8f-4abc-97d1-d129611cba14"
      },
      "source": [
        "492 / (284315  + 492) "
      ],
      "execution_count": 8,
      "outputs": [
        {
          "output_type": "execute_result",
          "data": {
            "text/plain": [
              "0.001727485630620034"
            ]
          },
          "metadata": {},
          "execution_count": 8
        }
      ]
    },
    {
      "cell_type": "markdown",
      "source": [
        "less than 0.2%"
      ],
      "metadata": {
        "id": "b7pGl7w_9f6b"
      }
    },
    {
      "cell_type": "code",
      "metadata": {
        "id": "fZLQtN8uIQp8",
        "colab": {
          "base_uri": "https://localhost:8080/"
        },
        "outputId": "61ab4f17-bbe7-4521-8237-4840eda95b3e"
      },
      "source": [
        "creditcardDF.shape"
      ],
      "execution_count": 9,
      "outputs": [
        {
          "output_type": "execute_result",
          "data": {
            "text/plain": [
              "(284807, 31)"
            ]
          },
          "metadata": {},
          "execution_count": 9
        }
      ]
    },
    {
      "cell_type": "code",
      "metadata": {
        "id": "q2hF4Q5st6Ji",
        "colab": {
          "base_uri": "https://localhost:8080/"
        },
        "outputId": "e1289ac5-692a-46d5-e3a1-6bc940d891b2"
      },
      "source": [
        "creditcardDF.isna().sum()#null checking"
      ],
      "execution_count": 10,
      "outputs": [
        {
          "output_type": "execute_result",
          "data": {
            "text/plain": [
              "Time      0\n",
              "V1        0\n",
              "V2        0\n",
              "V3        0\n",
              "V4        0\n",
              "V5        0\n",
              "V6        0\n",
              "V7        0\n",
              "V8        0\n",
              "V9        0\n",
              "V10       0\n",
              "V11       0\n",
              "V12       0\n",
              "V13       0\n",
              "V14       0\n",
              "V15       0\n",
              "V16       0\n",
              "V17       0\n",
              "V18       0\n",
              "V19       0\n",
              "V20       0\n",
              "V21       0\n",
              "V22       0\n",
              "V23       0\n",
              "V24       0\n",
              "V25       0\n",
              "V26       0\n",
              "V27       0\n",
              "V28       0\n",
              "Amount    0\n",
              "Class     0\n",
              "dtype: int64"
            ]
          },
          "metadata": {},
          "execution_count": 10
        }
      ]
    },
    {
      "cell_type": "code",
      "metadata": {
        "id": "h_wWarLPuQ5v",
        "colab": {
          "base_uri": "https://localhost:8080/",
          "height": 363
        },
        "outputId": "ac23acf1-8789-4d03-eb77-36b4eea23cec"
      },
      "source": [
        "sns.distplot(creditcardDF['Time'])"
      ],
      "execution_count": 11,
      "outputs": [
        {
          "output_type": "stream",
          "name": "stderr",
          "text": [
            "/usr/local/lib/python3.7/dist-packages/seaborn/distributions.py:2619: FutureWarning: `distplot` is a deprecated function and will be removed in a future version. Please adapt your code to use either `displot` (a figure-level function with similar flexibility) or `histplot` (an axes-level function for histograms).\n",
            "  warnings.warn(msg, FutureWarning)\n"
          ]
        },
        {
          "output_type": "execute_result",
          "data": {
            "text/plain": [
              "<matplotlib.axes._subplots.AxesSubplot at 0x7f8b68ad71d0>"
            ]
          },
          "metadata": {},
          "execution_count": 11
        },
        {
          "output_type": "display_data",
          "data": {
            "text/plain": [
              "<Figure size 432x288 with 1 Axes>"
            ],
            "image/png": "[encoded data removed]"
          },
          "metadata": {
            "needs_background": "light"
          }
        }
      ]
    },
    {
      "cell_type": "code",
      "metadata": {
        "id": "_s5s4tUSuQm9",
        "colab": {
          "base_uri": "https://localhost:8080/",
          "height": 352
        },
        "outputId": "fbd63ab6-55e2-433b-dbae-c365ae219483"
      },
      "source": [
        "sns.distplot(creditcardDF['Amount'])"
      ],
      "execution_count": 12,
      "outputs": [
        {
          "output_type": "stream",
          "name": "stderr",
          "text": [
            "/usr/local/lib/python3.7/dist-packages/seaborn/distributions.py:2619: FutureWarning: `distplot` is a deprecated function and will be removed in a future version. Please adapt your code to use either `displot` (a figure-level function with similar flexibility) or `histplot` (an axes-level function for histograms).\n",
            "  warnings.warn(msg, FutureWarning)\n"
          ]
        },
        {
          "output_type": "execute_result",
          "data": {
            "text/plain": [
              "<matplotlib.axes._subplots.AxesSubplot at 0x7f8b66185150>"
            ]
          },
          "metadata": {},
          "execution_count": 12
        },
        {
          "output_type": "display_data",
          "data": {
            "text/plain": [
              "<Figure size 432x288 with 1 Axes>"
            ],
            "image/png": "[encoded data removed]"
          },
          "metadata": {
            "needs_background": "light"
          }
        }
      ]
    },
    {
      "cell_type": "code",
      "source": [
        "#log tranform\n",
        "creditcardDF['Amount'] = np.log(creditcardDF['Amount'] + 1)\n",
        "creditcardDF['Time'] = np.log(creditcardDF['Time'] + 1)"
      ],
      "metadata": {
        "id": "lOxEO5JZ-MVj"
      },
      "execution_count": 13,
      "outputs": []
    },
    {
      "cell_type": "code",
      "source": [
        "sns.distplot(creditcardDF['Amount'])"
      ],
      "metadata": {
        "colab": {
          "base_uri": "https://localhost:8080/",
          "height": 353
        },
        "id": "Dknfkuyn-buS",
        "outputId": "a55c3b82-c3dd-45ee-fe94-9c93a0d74b06"
      },
      "execution_count": 14,
      "outputs": [
        {
          "output_type": "stream",
          "name": "stderr",
          "text": [
            "/usr/local/lib/python3.7/dist-packages/seaborn/distributions.py:2619: FutureWarning: `distplot` is a deprecated function and will be removed in a future version. Please adapt your code to use either `displot` (a figure-level function with similar flexibility) or `histplot` (an axes-level function for histograms).\n",
            "  warnings.warn(msg, FutureWarning)\n"
          ]
        },
        {
          "output_type": "execute_result",
          "data": {
            "text/plain": [
              "<matplotlib.axes._subplots.AxesSubplot at 0x7f8b695839d0>"
            ]
          },
          "metadata": {},
          "execution_count": 14
        },
        {
          "output_type": "display_data",
          "data": {
            "text/plain": [
              "<Figure size 432x288 with 1 Axes>"
            ],
            "image/png": "[encoded data removed]"
          },
          "metadata": {
            "needs_background": "light"
          }
        }
      ]
    },
    {
      "cell_type": "code",
      "source": [
        "sns.distplot(creditcardDF['Time'])"
      ],
      "metadata": {
        "colab": {
          "base_uri": "https://localhost:8080/",
          "height": 353
        },
        "id": "U9YqsxUj-gzI",
        "outputId": "0594a0e8-b64f-45eb-cbaa-300b83dea984"
      },
      "execution_count": 15,
      "outputs": [
        {
          "output_type": "stream",
          "name": "stderr",
          "text": [
            "/usr/local/lib/python3.7/dist-packages/seaborn/distributions.py:2619: FutureWarning: `distplot` is a deprecated function and will be removed in a future version. Please adapt your code to use either `displot` (a figure-level function with similar flexibility) or `histplot` (an axes-level function for histograms).\n",
            "  warnings.warn(msg, FutureWarning)\n"
          ]
        },
        {
          "output_type": "execute_result",
          "data": {
            "text/plain": [
              "<matplotlib.axes._subplots.AxesSubplot at 0x7f8b65a7db10>"
            ]
          },
          "metadata": {},
          "execution_count": 15
        },
        {
          "output_type": "display_data",
          "data": {
            "text/plain": [
              "<Figure size 432x288 with 1 Axes>"
            ],
            "image/png": "[encoded data removed]"
          },
          "metadata": {
            "needs_background": "light"
          }
        }
      ]
    },
    {
      "cell_type": "code",
      "source": [
        "normal = creditcardDF[creditcardDF['Class'] == 0]\n",
        "anomaly = creditcardDF[creditcardDF['Class'] == 1] "
      ],
      "metadata": {
        "id": "A83gIC4p-mUq"
      },
      "execution_count": 16,
      "outputs": []
    },
    {
      "cell_type": "code",
      "source": [
        "normal.shape"
      ],
      "metadata": {
        "colab": {
          "base_uri": "https://localhost:8080/"
        },
        "id": "E4aKv_IO_RSl",
        "outputId": "bec984c7-d90a-4caa-bb50-8e7744e7b8aa"
      },
      "execution_count": 17,
      "outputs": [
        {
          "output_type": "execute_result",
          "data": {
            "text/plain": [
              "(284315, 31)"
            ]
          },
          "metadata": {},
          "execution_count": 17
        }
      ]
    },
    {
      "cell_type": "code",
      "source": [
        "anomaly.shape"
      ],
      "metadata": {
        "colab": {
          "base_uri": "https://localhost:8080/"
        },
        "id": "A_4hty31_XkG",
        "outputId": "e5a08c2c-0991-4ac4-f222-35dc88677760"
      },
      "execution_count": 18,
      "outputs": [
        {
          "output_type": "execute_result",
          "data": {
            "text/plain": [
              "(492, 31)"
            ]
          },
          "metadata": {},
          "execution_count": 18
        }
      ]
    },
    {
      "cell_type": "code",
      "source": [
        "train, small_normal = train_test_split(normal, test_size=0.2, random_state=0) #80%\n",
        "normal_valid, normal_test = train_test_split(small_normal, test_size=0.5, random_state=0) #valid和test各10%\n",
        "anomaly_valid, anomaly_test = train_test_split(anomaly, test_size=0.5, random_state=0)\n",
        "\n",
        "validation = pd.concat([normal_valid, anomaly_valid])#include both good and bad, cross validation data in our text\n",
        "test = pd.concat([normal_test, anomaly_test])#include both good and bad"
      ],
      "metadata": {
        "id": "CFhOno8e-xpk"
      },
      "execution_count": 19,
      "outputs": []
    },
    {
      "cell_type": "code",
      "source": [
        "validation.shape"
      ],
      "metadata": {
        "colab": {
          "base_uri": "https://localhost:8080/"
        },
        "id": "WFfApRzNDxzi",
        "outputId": "d152497f-2321-42cc-f08b-22efc2c6b4a3"
      },
      "execution_count": 20,
      "outputs": [
        {
          "output_type": "execute_result",
          "data": {
            "text/plain": [
              "(28677, 31)"
            ]
          },
          "metadata": {},
          "execution_count": 20
        }
      ]
    },
    {
      "cell_type": "code",
      "source": [
        "test.shape"
      ],
      "metadata": {
        "colab": {
          "base_uri": "https://localhost:8080/"
        },
        "id": "aTS6yLWSD1Vp",
        "outputId": "7f11c359-00cd-4fd5-e188-e4ea8e65afb2"
      },
      "execution_count": 21,
      "outputs": [
        {
          "output_type": "execute_result",
          "data": {
            "text/plain": [
              "(28678, 31)"
            ]
          },
          "metadata": {},
          "execution_count": 21
        }
      ]
    },
    {
      "cell_type": "code",
      "source": [
        "train = train.drop(columns = ['Class']).reset_index(drop= True)#no need of label in train data, drop it\n",
        "train.shape"
      ],
      "metadata": {
        "colab": {
          "base_uri": "https://localhost:8080/"
        },
        "id": "Vxk_BiAWEECP",
        "outputId": "3074b937-dea7-4f9b-f4be-35b112468003"
      },
      "execution_count": 22,
      "outputs": [
        {
          "output_type": "execute_result",
          "data": {
            "text/plain": [
              "(227452, 30)"
            ]
          },
          "metadata": {},
          "execution_count": 22
        }
      ]
    },
    {
      "cell_type": "code",
      "metadata": {
        "id": "tb6GZTYC9O97"
      },
      "source": [
        "featureNames = list(train.columns.values)#feature names only, no label\n",
        "valFeatures = validation[featureNames].reset_index(drop= True)#feature df only, no label\n",
        "testFeatures = test[featureNames].reset_index(drop= True)#feature df only, no label\n",
        "\n",
        "valLabel = validation['Class']#label df only\n",
        "testLabel = test['Class']#label df only"
      ],
      "execution_count": 23,
      "outputs": []
    },
    {
      "cell_type": "code",
      "source": [
        "valFeatures.shape"
      ],
      "metadata": {
        "colab": {
          "base_uri": "https://localhost:8080/"
        },
        "id": "pAyr7fX-EjJV",
        "outputId": "89313862-9521-4614-e4df-83035ded2dd6"
      },
      "execution_count": 24,
      "outputs": [
        {
          "output_type": "execute_result",
          "data": {
            "text/plain": [
              "(28677, 30)"
            ]
          },
          "metadata": {},
          "execution_count": 24
        }
      ]
    },
    {
      "cell_type": "code",
      "metadata": {
        "id": "yFURxHtfu-cv",
        "colab": {
          "base_uri": "https://localhost:8080/"
        },
        "outputId": "47993f77-6346-442a-cab8-f11b9fb63fcf"
      },
      "source": [
        "valLabel.value_counts()"
      ],
      "execution_count": 25,
      "outputs": [
        {
          "output_type": "execute_result",
          "data": {
            "text/plain": [
              "0    28431\n",
              "1      246\n",
              "Name: Class, dtype: int64"
            ]
          },
          "metadata": {},
          "execution_count": 25
        }
      ]
    },
    {
      "cell_type": "code",
      "source": [
        "testLabel.value_counts()"
      ],
      "metadata": {
        "colab": {
          "base_uri": "https://localhost:8080/"
        },
        "id": "0ti8CqRXEv4y",
        "outputId": "91f696a9-1c65-4309-f624-6521a14d924d"
      },
      "execution_count": 26,
      "outputs": [
        {
          "output_type": "execute_result",
          "data": {
            "text/plain": [
              "0    28432\n",
              "1      246\n",
              "Name: Class, dtype: int64"
            ]
          },
          "metadata": {},
          "execution_count": 26
        }
      ]
    },
    {
      "cell_type": "code",
      "metadata": {
        "id": "uC4U5x8f_fIu",
        "colab": {
          "base_uri": "https://localhost:8080/",
          "height": 295
        },
        "outputId": "399a78e1-bc67-4c35-efbb-046e6259255b"
      },
      "source": [
        "plt.figure()\n",
        "plt.title(\"train data of V1 and V2\")#may contain outliers\n",
        "plt.xlabel(\"V1\")\n",
        "plt.ylabel(\"V2\")\n",
        "plt.plot(train.iloc[:, 1],train.iloc[:,2],\"bx\")\n",
        "plt.show()"
      ],
      "execution_count": 27,
      "outputs": [
        {
          "output_type": "display_data",
          "data": {
            "text/plain": [
              "<Figure size 432x288 with 1 Axes>"
            ],
            "image/png": "[encoded data removed]"
          },
          "metadata": {
            "needs_background": "light"
          }
        }
      ]
    },
    {
      "cell_type": "code",
      "metadata": {
        "id": "ClT7DCgz_hZ5",
        "colab": {
          "base_uri": "https://localhost:8080/",
          "height": 295
        },
        "outputId": "53b1d975-e8c8-4560-b534-b59203b6e920"
      },
      "source": [
        "plt.figure()\n",
        "plt.title(\"validation data of V1 and V2\")\n",
        "plt.xlabel(\"V1\")\n",
        "plt.ylabel(\"V2\")\n",
        "plt.plot(validation.iloc[:, 1],validation.iloc[:,2],\"bx\")\n",
        "plt.show()"
      ],
      "execution_count": 28,
      "outputs": [
        {
          "output_type": "display_data",
          "data": {
            "text/plain": [
              "<Figure size 432x288 with 1 Axes>"
            ],
            "image/png": "[encoded data removed]"
          },
          "metadata": {
            "needs_background": "light"
          }
        }
      ]
    },
    {
      "cell_type": "code",
      "metadata": {
        "id": "xS8r6bm1_lTB",
        "colab": {
          "base_uri": "https://localhost:8080/",
          "height": 295
        },
        "outputId": "fdbce34a-1769-4df5-8d87-2cb3e86c9cab"
      },
      "source": [
        "plt.figure()\n",
        "plt.title(\"test data of V1 and V2\")\n",
        "plt.xlabel(\"V1\")\n",
        "plt.ylabel(\"V2\")\n",
        "plt.plot(test.iloc[:, 1],test.iloc[:,2],\"bx\")\n",
        "plt.show()"
      ],
      "execution_count": 29,
      "outputs": [
        {
          "output_type": "display_data",
          "data": {
            "text/plain": [
              "<Figure size 432x288 with 1 Axes>"
            ],
            "image/png": "[encoded data removed]"
          },
          "metadata": {
            "needs_background": "light"
          }
        }
      ]
    },
    {
      "cell_type": "code",
      "source": [
        "#find parameter(mean, covaraince) for each col/feature in df for the Gaussian distribution\n",
        "def estimateGaussian(dataset):\n",
        "    mu = np.mean(dataset, axis=0)\n",
        "    sigma = np.cov(dataset.T)\n",
        "    return mu, sigma"
      ],
      "metadata": {
        "id": "ItkuWmiQFURZ"
      },
      "execution_count": 30,
      "outputs": []
    },
    {
      "cell_type": "code",
      "metadata": {
        "id": "X7IkBlGp_xum"
      },
      "source": [
        "# def read_dataset(filePath, delimiter=','):\n",
        "#     return genfromtxt(filePath, delimiter=delimiter)\n",
        "\n",
        "#find parameter for each col/feature in df for the Gaussian distribution\n",
        "def estimateGaussian(dataset):\n",
        "    mu = np.mean(dataset, axis=0)\n",
        "    sigma = np.cov(dataset.T)\n",
        "    return mu, sigma\n"
      ],
      "execution_count": null,
      "outputs": []
    },
    {
      "cell_type": "code",
      "source": [
        "mu, sigma = estimateGaussian(train)"
      ],
      "metadata": {
        "id": "13OSFTQYFeJj"
      },
      "execution_count": 31,
      "outputs": []
    },
    {
      "cell_type": "markdown",
      "source": [
        "model training"
      ],
      "metadata": {
        "id": "8WpLRZGGFsrx"
      }
    },
    {
      "cell_type": "code",
      "source": [
        "#generate The probability density function/curve/surface/model for multivariate_normal given mean and cov \n",
        "#allow_singular: Whether to allow a singular covariance matrix. (Default: False); multivariate_normal needs inverse of cov\n",
        "model = multivariate_normal(mean=mu, cov=sigma, allow_singular = True)#surface hat p(x)"
      ],
      "metadata": {
        "id": "lnCqWnSzFubk"
      },
      "execution_count": 32,
      "outputs": []
    },
    {
      "cell_type": "code",
      "source": [
        "pdfVal = model.pdf(valFeatures)\n",
        "print(max(pdfVal))#too small, can not differentiate\n",
        "print(min(pdfVal))\n",
        "\n",
        "p_val = model.logpdf(valFeatures)#Log of the pdf first, then apply to features, to change the magnitude of prob\n",
        "print(max(p_val))#\n",
        "print(min(p_val))"
      ],
      "metadata": {
        "colab": {
          "base_uri": "https://localhost:8080/"
        },
        "id": "Ycx_Cv2hGMOT",
        "outputId": "25aed200-1beb-4103-9776-ac35a7861ac4"
      },
      "execution_count": 33,
      "outputs": [
        {
          "output_type": "stream",
          "name": "stdout",
          "text": [
            "3.9360226892478286e-12\n",
            "0.0\n",
            "-26.260850372210484\n",
            "-7554.270217704675\n"
          ]
        }
      ]
    },
    {
      "cell_type": "code",
      "source": [
        "p = model.logpdf(train)\n",
        "print(p.shape, max(p), min(p))\n",
        "print((p_val.shape))"
      ],
      "metadata": {
        "colab": {
          "base_uri": "https://localhost:8080/"
        },
        "id": "ngLd3QPiGhTb",
        "outputId": "6e0b3c29-98cd-4fa6-f1d6-0ad9ee5237ef"
      },
      "execution_count": 35,
      "outputs": [
        {
          "output_type": "stream",
          "name": "stdout",
          "text": [
            "(227452,) -25.962828922259945 -18323.670439537575\n",
            "(28677,)\n"
          ]
        }
      ]
    },
    {
      "cell_type": "code",
      "source": [
        "print(p_val)\n",
        "print(p_val < -500)"
      ],
      "metadata": {
        "colab": {
          "base_uri": "https://localhost:8080/"
        },
        "id": "alauoogPGx6Y",
        "outputId": "03e83a56-cba7-4e3c-8edc-2a389e0dc661"
      },
      "execution_count": 36,
      "outputs": [
        {
          "output_type": "stream",
          "name": "stdout",
          "text": [
            "[  -31.28574735   -34.94205051   -27.79402451 ... -5175.93656039\n",
            " -4545.5057626    -29.7152192 ]\n",
            "[False False False ...  True  True False]\n"
          ]
        }
      ]
    },
    {
      "cell_type": "markdown",
      "source": [
        "Finding the best threshold from validation set"
      ],
      "metadata": {
        "id": "jrHqM0zHHBq3"
      }
    },
    {
      "cell_type": "code",
      "metadata": {
        "id": "8CbvIg7ZC5SP",
        "colab": {
          "base_uri": "https://localhost:8080/"
        },
        "outputId": "35eb76cd-b34a-484e-86f0-5f232576ed90"
      },
      "source": [
        "scores = []\n",
        "p_val = model.logpdf(valFeatures)#Log of the pdf\n",
        "\n",
        "# thresholds = np.linspace(-1000, -10,150)\n",
        "thresholds = np.linspace(min(p_val), max(p_val),200)#generate all candidate threshold, epsilon\n",
        "\n",
        "#step 2:  find optimal threshold: bestThreshold\n",
        "for threshold in thresholds:\n",
        "  y_pred = (p_val < threshold).astype(int)# list of 0 and 1 #predict by calculating the probability\n",
        "  #calculate recall, precision and f1 for each (truth, pred) pair, corresponding to that threshold\n",
        "  scores.append([recall_score(valLabel, y_pred),\n",
        "                 precision_score(valLabel, y_pred),\n",
        "                 f1_score(valLabel, y_pred, average = \"binary\")])\n",
        "\n",
        "scores = np.array(scores)\n",
        "maxIndex = scores[...,2].ravel().argmax()#maxIndex of the 3rd column (f1_score) #193, #.ravel return a flattened array\n",
        "bestThreshold = thresholds[maxIndex]\n",
        "print(scores.shape)#each row is a pair of (recall, precision, f1) corresponding to a threshold"
      ],
      "execution_count": 37,
      "outputs": [
        {
          "output_type": "stream",
          "name": "stderr",
          "text": [
            "/usr/local/lib/python3.7/dist-packages/sklearn/metrics/_classification.py:1318: UndefinedMetricWarning: Precision is ill-defined and being set to 0.0 due to no predicted samples. Use `zero_division` parameter to control this behavior.\n",
            "  _warn_prf(average, modifier, msg_start, len(result))\n"
          ]
        },
        {
          "output_type": "stream",
          "name": "stdout",
          "text": [
            "(200, 3)\n"
          ]
        }
      ]
    },
    {
      "cell_type": "code",
      "metadata": {
        "id": "YxGw0Xa7CQZw",
        "colab": {
          "base_uri": "https://localhost:8080/"
        },
        "outputId": "0c3288a2-519a-428c-bcac-ad76c09da260"
      },
      "source": [
        "scores[maxIndex]"
      ],
      "execution_count": 44,
      "outputs": [
        {
          "output_type": "execute_result",
          "data": {
            "text/plain": [
              "array([0.78861789, 0.7080292 , 0.74615385])"
            ]
          },
          "metadata": {},
          "execution_count": 44
        }
      ]
    },
    {
      "cell_type": "code",
      "metadata": {
        "id": "NUv0mGzMYBf8",
        "colab": {
          "base_uri": "https://localhost:8080/"
        },
        "outputId": "2ac6bcb3-f6bd-46cf-924d-0573ba002d2f"
      },
      "source": [
        "print(maxIndex)\n",
        "print(bestThreshold)"
      ],
      "execution_count": 39,
      "outputs": [
        {
          "output_type": "stream",
          "name": "stdout",
          "text": [
            "193\n",
            "-253.2360071762041\n"
          ]
        }
      ]
    },
    {
      "cell_type": "code",
      "metadata": {
        "id": "ZFGdBwq2_398",
        "colab": {
          "base_uri": "https://localhost:8080/"
        },
        "outputId": "fe99961a-67c6-47ea-ef93-77ec9ba80294"
      },
      "source": [
        "np.mean(train.iloc[:,1])"
      ],
      "execution_count": 40,
      "outputs": [
        {
          "output_type": "execute_result",
          "data": {
            "text/plain": [
              "0.0052467554200621574"
            ]
          },
          "metadata": {},
          "execution_count": 40
        }
      ]
    },
    {
      "cell_type": "code",
      "metadata": {
        "id": "3DKQiFDF__hk",
        "colab": {
          "base_uri": "https://localhost:8080/"
        },
        "outputId": "cef443e7-d442-40b4-de63-b4914020be49"
      },
      "source": [
        "mu[1]"
      ],
      "execution_count": 41,
      "outputs": [
        {
          "output_type": "execute_result",
          "data": {
            "text/plain": [
              "0.0052467554200621574"
            ]
          },
          "metadata": {},
          "execution_count": 41
        }
      ]
    },
    {
      "cell_type": "code",
      "metadata": {
        "id": "1twCbnrmABGt",
        "colab": {
          "base_uri": "https://localhost:8080/"
        },
        "outputId": "77701567-f2e0-4f0a-e635-2bdeb1ed1666"
      },
      "source": [
        "print(mu)"
      ],
      "execution_count": 42,
      "outputs": [
        {
          "output_type": "stream",
          "name": "stdout",
          "text": [
            "Time      11.252384\n",
            "V1         0.005247\n",
            "V2        -0.005416\n",
            "V3         0.010293\n",
            "V4        -0.008144\n",
            "V5         0.004281\n",
            "V6         0.001813\n",
            "V7         0.010354\n",
            "V8        -0.001103\n",
            "V9         0.006351\n",
            "V10        0.009573\n",
            "V11       -0.007736\n",
            "V12        0.009943\n",
            "V13        0.001084\n",
            "V14        0.010816\n",
            "V15        0.001082\n",
            "V16        0.007216\n",
            "V17        0.012364\n",
            "V18        0.003412\n",
            "V19       -0.001811\n",
            "V20       -0.001092\n",
            "V21       -0.001302\n",
            "V22       -0.000354\n",
            "V23        0.000209\n",
            "V24        0.000288\n",
            "V25        0.000375\n",
            "V26        0.000457\n",
            "V27       -0.000509\n",
            "V28       -0.000119\n",
            "Amount     3.152259\n",
            "dtype: float64\n"
          ]
        }
      ]
    },
    {
      "cell_type": "code",
      "metadata": {
        "id": "MsLzITjPAOde",
        "colab": {
          "base_uri": "https://localhost:8080/"
        },
        "outputId": "64820819-8440-4113-a321-3516906539ed"
      },
      "source": [
        "#performance on test data\n",
        "#step 3: prediction on test data\n",
        "y_test_pred_raw = model.logpdf(testFeatures)\n",
        "y_pred_test = y_test_pred_raw < bestThreshold\n",
        "\n",
        "f1_score(testLabel, y_pred_test, average = \"binary\")"
      ],
      "execution_count": 43,
      "outputs": [
        {
          "output_type": "execute_result",
          "data": {
            "text/plain": [
              "0.7401574803149606"
            ]
          },
          "metadata": {},
          "execution_count": 43
        }
      ]
    },
    {
      "cell_type": "code",
      "source": [
        "y_pred_test"
      ],
      "metadata": {
        "colab": {
          "base_uri": "https://localhost:8080/"
        },
        "id": "FnTTEj-kJ1RH",
        "outputId": "e9db396f-ae57-4c4f-a603-c16765ae58b9"
      },
      "execution_count": 45,
      "outputs": [
        {
          "output_type": "execute_result",
          "data": {
            "text/plain": [
              "array([False, False, False, ...,  True, False,  True])"
            ]
          },
          "metadata": {},
          "execution_count": 45
        }
      ]
    },
    {
      "cell_type": "code",
      "metadata": {
        "id": "ikDtOJUuWrLU",
        "colab": {
          "base_uri": "https://localhost:8080/"
        },
        "outputId": "63b76d23-4627-43ee-cb4b-ae912cd85abc"
      },
      "source": [
        "#index of predicted outliers in test data\n",
        "predoutliersTest = np.asarray(np.where(y_pred_test))\n",
        "len(predoutliersTest[0]) #number of outliers in test set"
      ],
      "execution_count": 53,
      "outputs": [
        {
          "output_type": "execute_result",
          "data": {
            "text/plain": [
              "262"
            ]
          },
          "metadata": {},
          "execution_count": 53
        }
      ]
    },
    {
      "cell_type": "code",
      "source": [
        "predoutliersTest"
      ],
      "metadata": {
        "colab": {
          "base_uri": "https://localhost:8080/"
        },
        "id": "GdNmGeZXL5Sk",
        "outputId": "a9364449-02d9-4922-b6f9-73014f123700"
      },
      "execution_count": 54,
      "outputs": [
        {
          "output_type": "execute_result",
          "data": {
            "text/plain": [
              "array([[  248,   437,   605,  1007,  1353,  1451,  1462,  1546,  1988,\n",
              "         2461,  3674,  3928,  4216,  4928,  5144,  5846,  5975,  6022,\n",
              "         6682,  6706,  6858,  7017,  7138,  8267,  8452,  8611,  8677,\n",
              "         8936,  8996,  9207,  9443,  9807,  9988, 10263, 10391, 10657,\n",
              "        11224, 12205, 13539, 13935, 14050, 14573, 14579, 14802, 14869,\n",
              "        15740, 16061, 16888, 17322, 17663, 19352, 19902, 20680, 20800,\n",
              "        21748, 22366, 22552, 22859, 23217, 23456, 23742, 24639, 24819,\n",
              "        25654, 25678, 26035, 27282, 27293, 27314, 27587, 27723, 28117,\n",
              "        28178, 28396, 28432, 28433, 28434, 28435, 28436, 28437, 28438,\n",
              "        28440, 28443, 28444, 28445, 28446, 28447, 28449, 28450, 28453,\n",
              "        28454, 28455, 28456, 28457, 28458, 28459, 28460, 28461, 28462,\n",
              "        28463, 28464, 28465, 28466, 28467, 28468, 28469, 28470, 28471,\n",
              "        28472, 28473, 28475, 28479, 28480, 28481, 28482, 28483, 28484,\n",
              "        28486, 28487, 28490, 28492, 28493, 28494, 28496, 28497, 28498,\n",
              "        28499, 28500, 28501, 28502, 28503, 28505, 28506, 28507, 28508,\n",
              "        28510, 28511, 28512, 28513, 28517, 28521, 28523, 28525, 28526,\n",
              "        28527, 28528, 28529, 28530, 28531, 28532, 28536, 28538, 28539,\n",
              "        28540, 28542, 28543, 28544, 28546, 28547, 28549, 28550, 28551,\n",
              "        28552, 28553, 28554, 28555, 28556, 28558, 28559, 28560, 28561,\n",
              "        28562, 28564, 28565, 28566, 28567, 28568, 28570, 28572, 28574,\n",
              "        28575, 28576, 28577, 28578, 28579, 28580, 28581, 28583, 28584,\n",
              "        28585, 28586, 28588, 28589, 28591, 28592, 28594, 28596, 28598,\n",
              "        28599, 28600, 28601, 28602, 28603, 28604, 28605, 28606, 28607,\n",
              "        28609, 28610, 28612, 28615, 28617, 28618, 28619, 28620, 28621,\n",
              "        28622, 28623, 28625, 28626, 28628, 28629, 28630, 28631, 28632,\n",
              "        28633, 28636, 28637, 28638, 28639, 28640, 28641, 28642, 28643,\n",
              "        28645, 28646, 28647, 28648, 28649, 28650, 28651, 28652, 28653,\n",
              "        28654, 28656, 28657, 28658, 28659, 28660, 28661, 28662, 28663,\n",
              "        28664, 28666, 28669, 28670, 28671, 28672, 28673, 28674, 28675,\n",
              "        28677]])"
            ]
          },
          "metadata": {},
          "execution_count": 54
        }
      ]
    },
    {
      "cell_type": "code",
      "metadata": {
        "id": "m2AUkBtbAMEr",
        "colab": {
          "base_uri": "https://localhost:8080/",
          "height": 295
        },
        "outputId": "cf1c599d-61dd-4d1f-f0ad-61cd000ce0b1"
      },
      "source": [
        "#outliers identified on test data feature column V1 V2\n",
        "plt.figure()\n",
        "plt.title(\"test_data with outlier flaged red\")\n",
        "plt.xlabel(\"V1\")\n",
        "plt.ylabel(\"V2\")\n",
        "plt.plot(testFeatures.iloc[:, 1],testFeatures.iloc[:,2],\"bx\")#plot v1 v2 as blue cross\n",
        "plt.plot(testFeatures.iloc[predoutliersTest[0],0],testFeatures.iloc[predoutliersTest[0],1],\"ro\")#re-plot the outliers as red dots\n",
        "plt.show()"
      ],
      "execution_count": 49,
      "outputs": [
        {
          "output_type": "display_data",
          "data": {
            "text/plain": [
              "<Figure size 432x288 with 1 Axes>"
            ],
            "image/png": "[encoded data removed]"
          },
          "metadata": {
            "needs_background": "light"
          }
        }
      ]
    },
    {
      "cell_type": "markdown",
      "source": [
        "model evaluation"
      ],
      "metadata": {
        "id": "MADS8mHTMD0h"
      }
    },
    {
      "cell_type": "code",
      "metadata": {
        "id": "WNWb0ZCXEzoG",
        "colab": {
          "base_uri": "https://localhost:8080/"
        },
        "outputId": "f9023d9c-ec65-4ee0-fc5d-879513813cc6"
      },
      "source": [
        "# generate evaluation metrics\n",
        "print(\"%s: %r\" % (\"accuracy_score is: \", accuracy_score(testLabel, y_pred_test)))\n",
        "print(\"%s: %r\" % (\"roc_auc_score is: \", roc_auc_score(testLabel, y_pred_test)))\n",
        "print(\"%s: %r\" % (\"f1_score is: \", f1_score(testLabel, y_pred_test )))#string to int\n",
        "\n",
        "print (\"confusion_matrix is: \")\n",
        "cm = confusion_matrix(testLabel, y_pred_test)\n",
        "cmDF = pd.DataFrame(cm, columns=['pred_0', 'pred_1'], index=['true_0', 'true_1'])\n",
        "print(cmDF)\n",
        "print('recall =',float(cm[1,1])/(cm[1,0]+cm[1,1]))\n",
        "print('precision =', float(cm[1,1])/(cm[1,1] + cm[0,1]))#1.0"
      ],
      "execution_count": 56,
      "outputs": [
        {
          "output_type": "stream",
          "name": "stdout",
          "text": [
            "accuracy_score is: : 0.9953971685612665\n",
            "roc_auc_score is: : 0.8808124705473279\n",
            "f1_score is: : 0.7401574803149606\n",
            "confusion_matrix is: \n",
            "        pred_0  pred_1\n",
            "true_0   28358      74\n",
            "true_1      58     188\n",
            "recall = 0.7642276422764228\n",
            "precision = 0.7175572519083969\n"
          ]
        }
      ]
    },
    {
      "cell_type": "markdown",
      "source": [
        "# Supervised learning\n"
      ],
      "metadata": {
        "id": "aIqJGb4FM1VK"
      }
    },
    {
      "cell_type": "markdown",
      "source": [
        "use the output prob as an additional input feature of the supervised learning model, and see if it improved the model performance\n",
        "\n",
        "Hyperparameters:\n",
        "\n",
        "1.Number of estimators: n_estimators refers to the number of base estimators or trees in the ensemble, i.e. the number of trees that will get built in the forest. This is an integer parameter and is optional. The default value is 100.\n",
        "\n",
        "2.Max samples: max_samples is the number of samples to be drawn to train each base estimator. If max_samples is more than the number of samples provided, \n",
        "all samples will be used for all trees. The default value of max_samples is 'auto'. If 'auto', then max_samples=min(256, n_samples)\n",
        "\n",
        "3.Contamination: This is a parameter that the algorithm is quite sensitive to; it refers to the expected proportion of outliers in the data set. \n",
        "This is used when fitting to define the threshold on the scores of the samples. The default value is 'auto'. \n",
        "If ‘auto’, the threshold value will be determined as in the original paper of Isolation Forest.\n",
        "\n",
        "4.Max features: All the base estimators are not trained with all the features available in the dataset. It is the number of features to \n",
        "draw from the total features to train each base estimator or tree.The default value of max features is one.\n"
      ],
      "metadata": {
        "id": "gCxl5qS8M8Pv"
      }
    },
    {
      "cell_type": "code",
      "metadata": {
        "id": "GlGZ1dSIAUaA",
        "colab": {
          "base_uri": "https://localhost:8080/"
        },
        "outputId": "93dfb145-c1d7-44b0-e943-f60a5aaba2e8"
      },
      "source": [
        "IFModel = IsolationForest(random_state=888, contamination = 0.01, n_estimators = 200, max_features = 2).fit(train)\n",
        "IFModel"
      ],
      "execution_count": 59,
      "outputs": [
        {
          "output_type": "stream",
          "name": "stderr",
          "text": [
            "/usr/local/lib/python3.7/dist-packages/sklearn/base.py:451: UserWarning: X does not have valid feature names, but IsolationForest was fitted with feature names\n",
            "  \"X does not have valid feature names, but\"\n"
          ]
        },
        {
          "output_type": "execute_result",
          "data": {
            "text/plain": [
              "IsolationForest(contamination=0.01, max_features=2, n_estimators=200,\n",
              "                random_state=888)"
            ]
          },
          "metadata": {},
          "execution_count": 59
        }
      ]
    },
    {
      "cell_type": "code",
      "metadata": {
        "id": "jWIb7J4lIswm"
      },
      "source": [
        "# convert 1/-1 to 0/1 for f1 calculation\n",
        "def convert(x):\n",
        "  if x == 1:\n",
        "    return 0\n",
        "  else:\n",
        "    return 1\n",
        "pred = IFModel.predict(testFeatures) #1 for inliers, -1 for outliers.\n",
        "pred2 = list(map(convert, pred))"
      ],
      "execution_count": 61,
      "outputs": []
    },
    {
      "cell_type": "code",
      "source": [
        "counter=collections.Counter(pred2)\n",
        "print(counter)\n",
        "f1_score(testLabel, pred2, average = \"binary\")#0.48 when added parameters"
      ],
      "metadata": {
        "colab": {
          "base_uri": "https://localhost:8080/"
        },
        "id": "LB3huj88TQde",
        "outputId": "bf3ccd55-2cde-43ee-cc20-885b48467464"
      },
      "execution_count": 63,
      "outputs": [
        {
          "output_type": "stream",
          "name": "stdout",
          "text": [
            "Counter({0: 28296, 1: 382})\n"
          ]
        },
        {
          "output_type": "execute_result",
          "data": {
            "text/plain": [
              "0.5063694267515924"
            ]
          },
          "metadata": {},
          "execution_count": 63
        }
      ]
    }
  ]
}